{
  "nbformat": 4,
  "nbformat_minor": 0,
  "metadata": {
    "colab": {
      "name": "ModelDevelopment.ipynb",
      "provenance": [],
      "authorship_tag": "ABX9TyPJgv/6LNBeUidNDFXhLVMX",
      "include_colab_link": true
    },
    "kernelspec": {
      "name": "python3",
      "display_name": "Python 3"
    },
    "language_info": {
      "name": "python"
    }
  },
  "cells": [
    {
      "cell_type": "markdown",
      "metadata": {
        "id": "view-in-github",
        "colab_type": "text"
      },
      "source": [
        "<a href=\"https://colab.research.google.com/github/limpa105/RegexPlus/blob/main/ModelDevelopment.ipynb\" target=\"_parent\"><img src=\"https://colab.research.google.com/assets/colab-badge.svg\" alt=\"Open In Colab\"/></a>"
      ]
    },
    {
      "cell_type": "code",
      "execution_count": 2,
      "metadata": {
        "id": "poxMjASFoktq"
      },
      "outputs": [],
      "source": [
        "import pandas as pd\n",
        "import numpy as np\n",
        "import pickle"
      ]
    },
    {
      "cell_type": "code",
      "source": [
        "train = pd.read_csv(\"const.tsv\", sep='\\t')"
      ],
      "metadata": {
        "id": "4m3zQCkKtkbD"
      },
      "execution_count": null,
      "outputs": []
    },
    {
      "cell_type": "code",
      "source": [
        "train = pd.read_csv(\"const.tsv\", sep='\\t')\n",
        "train = train.groupby([\"problem_id\"]).first()\n",
        "train = train.drop(['description', 'neg_examples'], axis=1)\n",
        "train[\"const_values\"] = [ len(i.split(\",\"))-1!=0 for i in train[\"const_values\"]]\n",
        "train[\"var\"] = [ np.asarray([ len(j) for j in i.split(\" \")]).std() for i in train[\"pos_examples\"]]\n",
        "train[\"mean\"] = [ np.asarray([ len(j) for j in i.split(\" \")]).mean() for i in train[\"pos_examples\"]]\n",
        "train[\"optional\"] = [(\"optional\") in i for i in train[\"regex\"]]\n",
        "# how to get number of constants in common? interesection is too simple \n",
        "const = []\n",
        "for i in range(len(train[\"pos_examples\"])):\n",
        "  l = train[\"pos_examples\"][i].split(\" \") \n",
        "  ans = l[0]\n",
        "  for j in l:\n",
        "    ans = set(j).intersection(ans)\n",
        "  const.append(len(ans))\n",
        "train[\"shared\"] = const\n",
        "\n",
        "\n"
      ],
      "metadata": {
        "id": "rcM7-wOdovXG"
      },
      "execution_count": 3,
      "outputs": []
    },
    {
      "cell_type": "code",
      "source": [
        "train[\"pos_examples\"][0]"
      ],
      "metadata": {
        "colab": {
          "base_uri": "https://localhost:8080/",
          "height": 35
        },
        "id": "QTDr6Pj_0XY1",
        "outputId": "ec1abb39-60e9-4a05-fba8-0cb8db2c8ddc"
      },
      "execution_count": null,
      "outputs": [
        {
          "output_type": "execute_result",
          "data": {
            "application/vnd.google.colaboratory.intrinsic+json": {
              "type": "string"
            },
            "text/plain": [
              "'5hhhpvRTIWJFHFJ 2hhhpfTHTJVJDIHXJIJ 4hhhCAGFJ 4hhhCAGJJ 4hhhrnSKOJJ 4hhhrnSKOCJ'"
            ]
          },
          "metadata": {},
          "execution_count": 6
        }
      ]
    },
    {
      "cell_type": "code",
      "source": [
        "# predicting constants \n",
        "from sklearn.linear_model import LogisticRegression\n",
        "clf = LogisticRegression(random_state=0).fit(train[[\"var\", \"shared\"]], train[\"const_values\"])\n",
        "np.unique(train[\"const_values\"].values == clf.predict(train[[\"var\", \"shared\"]]), return_counts= True)\n",
        "print(\"Percent accuracy on train:\", 551/(551+189))"
      ],
      "metadata": {
        "colab": {
          "base_uri": "https://localhost:8080/"
        },
        "id": "93JmVjiNxZU4",
        "outputId": "4ed4371f-2dc5-4ec5-8ce9-0823fd5f6d8c"
      },
      "execution_count": 46,
      "outputs": [
        {
          "output_type": "stream",
          "name": "stdout",
          "text": [
            "Percent accuracy on train: 0.7445945945945946\n"
          ]
        }
      ]
    },
    {
      "cell_type": "code",
      "source": [
        "clf.predict"
      ],
      "metadata": {
        "id": "cHHYZobBvgCO"
      },
      "execution_count": null,
      "outputs": []
    },
    {
      "cell_type": "code",
      "source": [
        "pickle.dump(clf, open(\"constants_model.sav\", 'wb'))"
      ],
      "metadata": {
        "id": "9F_V1EVZsEEs"
      },
      "execution_count": 34,
      "outputs": []
    },
    {
      "cell_type": "code",
      "source": [
        "clf.predict(train[[\"var\", \"shared\"]])[1]"
      ],
      "metadata": {
        "colab": {
          "base_uri": "https://localhost:8080/"
        },
        "id": "nfIr5bvqepfv",
        "outputId": "3743baa8-bf97-43fa-ac0c-383a2d36dbe2"
      },
      "execution_count": null,
      "outputs": [
        {
          "output_type": "execute_result",
          "data": {
            "text/plain": [
              "True"
            ]
          },
          "metadata": {},
          "execution_count": 16
        }
      ]
    },
    {
      "cell_type": "code",
      "source": [
        "# predicting optionals \n",
        "from sklearn.linear_model import LogisticRegression\n",
        "clf = LogisticRegression(random_state=0).fit(train[[\"var\", \"shared\", \"mean\"]], train[\"optional\"])\n",
        "np.unique(train[\"optional\"].values == clf.predict(train[[\"var\", \"shared\", \"mean\"]]), return_counts= True)\n",
        "print(\"Percent accuracy on train:\", 613/(127+613))"
      ],
      "metadata": {
        "colab": {
          "base_uri": "https://localhost:8080/"
        },
        "id": "3NlCKWjsyAsX",
        "outputId": "3b99728e-c3b7-4af0-e4d7-ee6645fcfd63"
      },
      "execution_count": 4,
      "outputs": [
        {
          "output_type": "stream",
          "name": "stdout",
          "text": [
            "Percent accuracy on train: 0.8283783783783784\n"
          ]
        }
      ]
    },
    {
      "cell_type": "code",
      "source": [
        "pickle.dump(clf, open(\"optionals_model.sav\", 'wb'))"
      ],
      "metadata": {
        "id": "dh_M9HwWseuZ"
      },
      "execution_count": 5,
      "outputs": []
    }
  ]
}