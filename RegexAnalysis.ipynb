{
  "nbformat": 4,
  "nbformat_minor": 0,
  "metadata": {
    "colab": {
      "name": "Regex.ipynb",
      "provenance": [],
      "authorship_tag": "ABX9TyNTgh8YDoOqWyM5rCJEo7xi",
      "include_colab_link": true
    },
    "kernelspec": {
      "name": "python3",
      "display_name": "Python 3"
    },
    "language_info": {
      "name": "python"
    }
  },
  "cells": [
    {
      "cell_type": "markdown",
      "metadata": {
        "id": "view-in-github",
        "colab_type": "text"
      },
      "source": [
        "<a href=\"https://colab.research.google.com/github/limpa105/RegexPlus/blob/main/RegexAnalysis.ipynb\" target=\"_parent\"><img src=\"https://colab.research.google.com/assets/colab-badge.svg\" alt=\"Open In Colab\"/></a>"
      ]
    },
    {
      "cell_type": "code",
      "execution_count": 16,
      "metadata": {
        "id": "0d1KsJf7aJOi"
      },
      "outputs": [],
      "source": [
        "import pandas as pd \n",
        "regex_data = pd.read_csv('/content/regex.txt', sep='\\n', header=None)"
      ]
    },
    {
      "cell_type": "code",
      "source": [
        "a_len = 0\n",
        "for item in regex_data.to_numpy():\n",
        "  for i in item[0]:\n",
        "    if i == \"(\":\n",
        "      a_len+=1;\n",
        "print(a_len/10000)"
      ],
      "metadata": {
        "colab": {
          "base_uri": "https://localhost:8080/"
        },
        "id": "niA_A0XQnKFe",
        "outputId": "7c80bbd6-09bb-4807-f919-e152e2836546"
      },
      "execution_count": 7,
      "outputs": [
        {
          "output_type": "stream",
          "name": "stdout",
          "text": [
            "3.3627\n"
          ]
        }
      ]
    },
    {
      "cell_type": "code",
      "source": [
        "1/(3.3627)"
      ],
      "metadata": {
        "colab": {
          "base_uri": "https://localhost:8080/"
        },
        "id": "gF7QwCZaoGcT",
        "outputId": "8dcc739f-5d0f-46b2-d3c5-3eea454af37b"
      },
      "execution_count": 8,
      "outputs": [
        {
          "output_type": "execute_result",
          "data": {
            "text/plain": [
              "0.29738008148214234"
            ]
          },
          "metadata": {},
          "execution_count": 8
        }
      ]
    },
    {
      "cell_type": "code",
      "source": [
        "count_dict = { '[0-9]': 0 ,\n",
        "'[A-Z]': 0,\n",
        "'[AEIOUaeiou]' : 0, \n",
        "'[a-z]' : 0,\n",
        "'constants' : 0,\n",
        "'[A-Za-z]' : 0, \n",
        "'alphanumeric': 0}\n",
        "for item in regex_data.to_numpy():\n",
        "  if (\"[A-Z]\" in item[0]):\n",
        "    count_dict['[A-Z]']+=1 \n",
        "  if (\"[A-Za-z]\" in item[0]):\n",
        "    count_dict['[A-Za-z]']+=1 \n",
        "  if (\"[0-9]\" in item[0]):\n",
        "    count_dict['[0-9]']+=1 \n",
        "  if (\"[AEIOUaeiou]\" in item[0]):\n",
        "    count_dict[\"[AEIOUaeiou]\"] +=1\n",
        "  if (\"[a-z]\" in item[0]):\n",
        "    count_dict['[a-z]']+=1\n",
        "  for i in count_dict.keys():\n",
        "    item[0] = item[0].replace(i, \"\")\n",
        "  item[0] = (item[0].replace(\"\\\\b\", \"\")\n",
        "                    .replace(\"(\", \"\")\n",
        "                    .replace(\")\", \"\")\n",
        "                    .replace(\"*\", \"\")\n",
        "                    .replace(\".\", \"\")\n",
        "                    .replace(\"&\", \"\")\n",
        "                    .replace(\"|\", \"\")\n",
        "                    .replace(\"~\", \"\")\n",
        "                    .replace(\"+\", \"\"))\n",
        "  if len(item[0]) > 0:\n",
        "    count_dict[\"constants\"] +=1;"
      ],
      "metadata": {
        "id": "soDND9EObTOc"
      },
      "execution_count": 17,
      "outputs": []
    },
    {
      "cell_type": "code",
      "source": [
        "count_dict = {k:[v] for k,v in count_dict.items()}  # WORKAROUND\n",
        "df = (pd.DataFrame(count_dict)).T\n",
        "df = df/ df.sum()\n",
        "df = df.T\n",
        "df['alphanumeric'] = 0.13\n",
        "df[\"end\"] = 1/(3.3627)\n",
        "df = df.T\n",
        "df = df/ df.sum()"
      ],
      "metadata": {
        "id": "MuvdNTHqcTO6"
      },
      "execution_count": 18,
      "outputs": []
    },
    {
      "cell_type": "code",
      "source": [
        "df"
      ],
      "metadata": {
        "colab": {
          "base_uri": "https://localhost:8080/",
          "height": 297
        },
        "id": "BcB_kV3io1Au",
        "outputId": "b80a2636-3cd4-4511-d216-a98e5912c687"
      },
      "execution_count": 19,
      "outputs": [
        {
          "output_type": "execute_result",
          "data": {
            "text/html": [
              "\n",
              "  <div id=\"df-91c45f0e-da37-46bb-a722-a7c360b20f9a\">\n",
              "    <div class=\"colab-df-container\">\n",
              "      <div>\n",
              "<style scoped>\n",
              "    .dataframe tbody tr th:only-of-type {\n",
              "        vertical-align: middle;\n",
              "    }\n",
              "\n",
              "    .dataframe tbody tr th {\n",
              "        vertical-align: top;\n",
              "    }\n",
              "\n",
              "    .dataframe thead th {\n",
              "        text-align: right;\n",
              "    }\n",
              "</style>\n",
              "<table border=\"1\" class=\"dataframe\">\n",
              "  <thead>\n",
              "    <tr style=\"text-align: right;\">\n",
              "      <th></th>\n",
              "      <th>0</th>\n",
              "    </tr>\n",
              "  </thead>\n",
              "  <tbody>\n",
              "    <tr>\n",
              "      <th>[0-9]</th>\n",
              "      <td>0.095358</td>\n",
              "    </tr>\n",
              "    <tr>\n",
              "      <th>[A-Z]</th>\n",
              "      <td>0.093298</td>\n",
              "    </tr>\n",
              "    <tr>\n",
              "      <th>[AEIOUaeiou]</th>\n",
              "      <td>0.095092</td>\n",
              "    </tr>\n",
              "    <tr>\n",
              "      <th>[a-z]</th>\n",
              "      <td>0.094494</td>\n",
              "    </tr>\n",
              "    <tr>\n",
              "      <th>constants</th>\n",
              "      <td>0.228911</td>\n",
              "    </tr>\n",
              "    <tr>\n",
              "      <th>[A-Za-z]</th>\n",
              "      <td>0.093431</td>\n",
              "    </tr>\n",
              "    <tr>\n",
              "      <th>alphanumeric</th>\n",
              "      <td>0.091076</td>\n",
              "    </tr>\n",
              "    <tr>\n",
              "      <th>end</th>\n",
              "      <td>0.208340</td>\n",
              "    </tr>\n",
              "  </tbody>\n",
              "</table>\n",
              "</div>\n",
              "      <button class=\"colab-df-convert\" onclick=\"convertToInteractive('df-91c45f0e-da37-46bb-a722-a7c360b20f9a')\"\n",
              "              title=\"Convert this dataframe to an interactive table.\"\n",
              "              style=\"display:none;\">\n",
              "        \n",
              "  <svg xmlns=\"http://www.w3.org/2000/svg\" height=\"24px\"viewBox=\"0 0 24 24\"\n",
              "       width=\"24px\">\n",
              "    <path d=\"M0 0h24v24H0V0z\" fill=\"none\"/>\n",
              "    <path d=\"M18.56 5.44l.94 2.06.94-2.06 2.06-.94-2.06-.94-.94-2.06-.94 2.06-2.06.94zm-11 1L8.5 8.5l.94-2.06 2.06-.94-2.06-.94L8.5 2.5l-.94 2.06-2.06.94zm10 10l.94 2.06.94-2.06 2.06-.94-2.06-.94-.94-2.06-.94 2.06-2.06.94z\"/><path d=\"M17.41 7.96l-1.37-1.37c-.4-.4-.92-.59-1.43-.59-.52 0-1.04.2-1.43.59L10.3 9.45l-7.72 7.72c-.78.78-.78 2.05 0 2.83L4 21.41c.39.39.9.59 1.41.59.51 0 1.02-.2 1.41-.59l7.78-7.78 2.81-2.81c.8-.78.8-2.07 0-2.86zM5.41 20L4 18.59l7.72-7.72 1.47 1.35L5.41 20z\"/>\n",
              "  </svg>\n",
              "      </button>\n",
              "      \n",
              "  <style>\n",
              "    .colab-df-container {\n",
              "      display:flex;\n",
              "      flex-wrap:wrap;\n",
              "      gap: 12px;\n",
              "    }\n",
              "\n",
              "    .colab-df-convert {\n",
              "      background-color: #E8F0FE;\n",
              "      border: none;\n",
              "      border-radius: 50%;\n",
              "      cursor: pointer;\n",
              "      display: none;\n",
              "      fill: #1967D2;\n",
              "      height: 32px;\n",
              "      padding: 0 0 0 0;\n",
              "      width: 32px;\n",
              "    }\n",
              "\n",
              "    .colab-df-convert:hover {\n",
              "      background-color: #E2EBFA;\n",
              "      box-shadow: 0px 1px 2px rgba(60, 64, 67, 0.3), 0px 1px 3px 1px rgba(60, 64, 67, 0.15);\n",
              "      fill: #174EA6;\n",
              "    }\n",
              "\n",
              "    [theme=dark] .colab-df-convert {\n",
              "      background-color: #3B4455;\n",
              "      fill: #D2E3FC;\n",
              "    }\n",
              "\n",
              "    [theme=dark] .colab-df-convert:hover {\n",
              "      background-color: #434B5C;\n",
              "      box-shadow: 0px 1px 3px 1px rgba(0, 0, 0, 0.15);\n",
              "      filter: drop-shadow(0px 1px 2px rgba(0, 0, 0, 0.3));\n",
              "      fill: #FFFFFF;\n",
              "    }\n",
              "  </style>\n",
              "\n",
              "      <script>\n",
              "        const buttonEl =\n",
              "          document.querySelector('#df-91c45f0e-da37-46bb-a722-a7c360b20f9a button.colab-df-convert');\n",
              "        buttonEl.style.display =\n",
              "          google.colab.kernel.accessAllowed ? 'block' : 'none';\n",
              "\n",
              "        async function convertToInteractive(key) {\n",
              "          const element = document.querySelector('#df-91c45f0e-da37-46bb-a722-a7c360b20f9a');\n",
              "          const dataTable =\n",
              "            await google.colab.kernel.invokeFunction('convertToInteractive',\n",
              "                                                     [key], {});\n",
              "          if (!dataTable) return;\n",
              "\n",
              "          const docLinkHtml = 'Like what you see? Visit the ' +\n",
              "            '<a target=\"_blank\" href=https://colab.research.google.com/notebooks/data_table.ipynb>data table notebook</a>'\n",
              "            + ' to learn more about interactive tables.';\n",
              "          element.innerHTML = '';\n",
              "          dataTable['output_type'] = 'display_data';\n",
              "          await google.colab.output.renderOutput(dataTable, element);\n",
              "          const docLink = document.createElement('div');\n",
              "          docLink.innerHTML = docLinkHtml;\n",
              "          element.appendChild(docLink);\n",
              "        }\n",
              "      </script>\n",
              "    </div>\n",
              "  </div>\n",
              "  "
            ],
            "text/plain": [
              "                     0\n",
              "[0-9]         0.095358\n",
              "[A-Z]         0.093298\n",
              "[AEIOUaeiou]  0.095092\n",
              "[a-z]         0.094494\n",
              "constants     0.228911\n",
              "[A-Za-z]      0.093431\n",
              "alphanumeric  0.091076\n",
              "end           0.208340"
            ]
          },
          "metadata": {},
          "execution_count": 19
        }
      ]
    },
    {
      "cell_type": "code",
      "source": [
        "sample = df.iloc[3:7]"
      ],
      "metadata": {
        "id": "FWSVbg9PiqeS"
      },
      "execution_count": 23,
      "outputs": []
    },
    {
      "cell_type": "code",
      "source": [
        "sample  = sample/sample.sum()"
      ],
      "metadata": {
        "id": "sYHQDMBTpcfw"
      },
      "execution_count": 24,
      "outputs": []
    },
    {
      "cell_type": "code",
      "source": [
        "first = pd.DataFrame()\n",
        "first[\"x\"] = [0.45]\n",
        "first[\"[a-z]\"] = 0.186 * 1/ 26\n",
        "first[\"[A-Za-z]\"] = 0.18395 * 1/ 52\n",
        "first[\"alphanumeric\"] = 0.1793 * 1/62"
      ],
      "metadata": {
        "id": "ma7N8gnEpf62"
      },
      "execution_count": 36,
      "outputs": []
    },
    {
      "cell_type": "code",
      "source": [
        "first"
      ],
      "metadata": {
        "colab": {
          "base_uri": "https://localhost:8080/",
          "height": 80
        },
        "id": "_11AalYIs-3D",
        "outputId": "80334b15-986f-4a9a-b1be-3ac409c40180"
      },
      "execution_count": 38,
      "outputs": [
        {
          "output_type": "execute_result",
          "data": {
            "text/html": [
              "\n",
              "  <div id=\"df-e9443c86-ca0d-4140-829c-e43fdcefdd31\">\n",
              "    <div class=\"colab-df-container\">\n",
              "      <div>\n",
              "<style scoped>\n",
              "    .dataframe tbody tr th:only-of-type {\n",
              "        vertical-align: middle;\n",
              "    }\n",
              "\n",
              "    .dataframe tbody tr th {\n",
              "        vertical-align: top;\n",
              "    }\n",
              "\n",
              "    .dataframe thead th {\n",
              "        text-align: right;\n",
              "    }\n",
              "</style>\n",
              "<table border=\"1\" class=\"dataframe\">\n",
              "  <thead>\n",
              "    <tr style=\"text-align: right;\">\n",
              "      <th></th>\n",
              "      <th>x</th>\n",
              "      <th>[a-z]</th>\n",
              "      <th>[A-Za-z]</th>\n",
              "      <th>alphanumeric</th>\n",
              "    </tr>\n",
              "  </thead>\n",
              "  <tbody>\n",
              "    <tr>\n",
              "      <th>0</th>\n",
              "      <td>0.45</td>\n",
              "      <td>0.007154</td>\n",
              "      <td>0.003537</td>\n",
              "      <td>0.002892</td>\n",
              "    </tr>\n",
              "  </tbody>\n",
              "</table>\n",
              "</div>\n",
              "      <button class=\"colab-df-convert\" onclick=\"convertToInteractive('df-e9443c86-ca0d-4140-829c-e43fdcefdd31')\"\n",
              "              title=\"Convert this dataframe to an interactive table.\"\n",
              "              style=\"display:none;\">\n",
              "        \n",
              "  <svg xmlns=\"http://www.w3.org/2000/svg\" height=\"24px\"viewBox=\"0 0 24 24\"\n",
              "       width=\"24px\">\n",
              "    <path d=\"M0 0h24v24H0V0z\" fill=\"none\"/>\n",
              "    <path d=\"M18.56 5.44l.94 2.06.94-2.06 2.06-.94-2.06-.94-.94-2.06-.94 2.06-2.06.94zm-11 1L8.5 8.5l.94-2.06 2.06-.94-2.06-.94L8.5 2.5l-.94 2.06-2.06.94zm10 10l.94 2.06.94-2.06 2.06-.94-2.06-.94-.94-2.06-.94 2.06-2.06.94z\"/><path d=\"M17.41 7.96l-1.37-1.37c-.4-.4-.92-.59-1.43-.59-.52 0-1.04.2-1.43.59L10.3 9.45l-7.72 7.72c-.78.78-.78 2.05 0 2.83L4 21.41c.39.39.9.59 1.41.59.51 0 1.02-.2 1.41-.59l7.78-7.78 2.81-2.81c.8-.78.8-2.07 0-2.86zM5.41 20L4 18.59l7.72-7.72 1.47 1.35L5.41 20z\"/>\n",
              "  </svg>\n",
              "      </button>\n",
              "      \n",
              "  <style>\n",
              "    .colab-df-container {\n",
              "      display:flex;\n",
              "      flex-wrap:wrap;\n",
              "      gap: 12px;\n",
              "    }\n",
              "\n",
              "    .colab-df-convert {\n",
              "      background-color: #E8F0FE;\n",
              "      border: none;\n",
              "      border-radius: 50%;\n",
              "      cursor: pointer;\n",
              "      display: none;\n",
              "      fill: #1967D2;\n",
              "      height: 32px;\n",
              "      padding: 0 0 0 0;\n",
              "      width: 32px;\n",
              "    }\n",
              "\n",
              "    .colab-df-convert:hover {\n",
              "      background-color: #E2EBFA;\n",
              "      box-shadow: 0px 1px 2px rgba(60, 64, 67, 0.3), 0px 1px 3px 1px rgba(60, 64, 67, 0.15);\n",
              "      fill: #174EA6;\n",
              "    }\n",
              "\n",
              "    [theme=dark] .colab-df-convert {\n",
              "      background-color: #3B4455;\n",
              "      fill: #D2E3FC;\n",
              "    }\n",
              "\n",
              "    [theme=dark] .colab-df-convert:hover {\n",
              "      background-color: #434B5C;\n",
              "      box-shadow: 0px 1px 3px 1px rgba(0, 0, 0, 0.15);\n",
              "      filter: drop-shadow(0px 1px 2px rgba(0, 0, 0, 0.3));\n",
              "      fill: #FFFFFF;\n",
              "    }\n",
              "  </style>\n",
              "\n",
              "      <script>\n",
              "        const buttonEl =\n",
              "          document.querySelector('#df-e9443c86-ca0d-4140-829c-e43fdcefdd31 button.colab-df-convert');\n",
              "        buttonEl.style.display =\n",
              "          google.colab.kernel.accessAllowed ? 'block' : 'none';\n",
              "\n",
              "        async function convertToInteractive(key) {\n",
              "          const element = document.querySelector('#df-e9443c86-ca0d-4140-829c-e43fdcefdd31');\n",
              "          const dataTable =\n",
              "            await google.colab.kernel.invokeFunction('convertToInteractive',\n",
              "                                                     [key], {});\n",
              "          if (!dataTable) return;\n",
              "\n",
              "          const docLinkHtml = 'Like what you see? Visit the ' +\n",
              "            '<a target=\"_blank\" href=https://colab.research.google.com/notebooks/data_table.ipynb>data table notebook</a>'\n",
              "            + ' to learn more about interactive tables.';\n",
              "          element.innerHTML = '';\n",
              "          dataTable['output_type'] = 'display_data';\n",
              "          await google.colab.output.renderOutput(dataTable, element);\n",
              "          const docLink = document.createElement('div');\n",
              "          docLink.innerHTML = docLinkHtml;\n",
              "          element.appendChild(docLink);\n",
              "        }\n",
              "      </script>\n",
              "    </div>\n",
              "  </div>\n",
              "  "
            ],
            "text/plain": [
              "      x     [a-z]  [A-Za-z]  alphanumeric\n",
              "0  0.45  0.007154  0.003537      0.002892"
            ]
          },
          "metadata": {},
          "execution_count": 38
        }
      ]
    },
    {
      "cell_type": "code",
      "source": [
        "second "
      ],
      "metadata": {
        "colab": {
          "base_uri": "https://localhost:8080/",
          "height": 198
        },
        "id": "RBXKG8R2tVCi",
        "outputId": "54bd3b4d-b8de-4cd0-bad1-1b37f3e5e7ad"
      },
      "execution_count": 39,
      "outputs": [
        {
          "output_type": "error",
          "ename": "NameError",
          "evalue": "ignored",
          "traceback": [
            "\u001b[0;31m---------------------------------------------------------------------------\u001b[0m",
            "\u001b[0;31mNameError\u001b[0m                                 Traceback (most recent call last)",
            "\u001b[0;32m<ipython-input-39-33367fc86302>\u001b[0m in \u001b[0;36m<module>\u001b[0;34m()\u001b[0m\n\u001b[0;32m----> 1\u001b[0;31m \u001b[0msecond\u001b[0m\u001b[0;34m\u001b[0m\u001b[0;34m\u001b[0m\u001b[0m\n\u001b[0m",
            "\u001b[0;31mNameError\u001b[0m: name 'second' is not defined"
          ]
        }
      ]
    },
    {
      "cell_type": "code",
      "source": [
        "def weight():\n",
        "     decis = re.compile(r'[0-9]+$')\n",
        "     lows = re.compile(r'[a-z]+$')\n",
        "     ups = re.compile(r'[A-Z]+$')\n",
        "     alphas = re.compile(r'[a-zA-Z]+$')\n",
        "     alnums = re.compile(r'[a-zA-Z0-9]+$')\n",
        "     whites = re.compile(r'\\s+$')\n",
        "     words = re.compile(r'(\\w+ )+$')\n",
        "     if decis.match(s):\n",
        "         yield \"[0-9]+\"\n",
        "     if lows.match(s):\n",
        "         yield \"[a-z]+\"\n",
        "     if ups.match(s):\n",
        "         yield \"[A-Z]+\"\n",
        "     if alphas.match(s):\n",
        "         yield \"[a-zA-Z]+\"\n",
        "     if alnums.match(s):\n",
        "         yield \"[a-zA-Z0-9]+\"\n",
        "     if whites.match(s):\n",
        "         yield \"\\\\s+\"\n",
        "     if words.match(s):\n",
        "         yield \"(\\w+ )+\"\n",
        "     # TODO: other tokens (capitalized words, stuff like that)"
      ],
      "metadata": {
        "colab": {
          "base_uri": "https://localhost:8080/",
          "height": 130
        },
        "id": "qd4akoc_i1nt",
        "outputId": "4994ce34-0450-4de3-ddfb-19cfd385f7e1"
      },
      "execution_count": 77,
      "outputs": [
        {
          "output_type": "error",
          "ename": "IndentationError",
          "evalue": "ignored",
          "traceback": [
            "\u001b[0;36m  File \u001b[0;32m\"<ipython-input-77-31de738bd3c0>\"\u001b[0;36m, line \u001b[0;32m2\u001b[0m\n\u001b[0;31m    lows = re.compile(r'[a-z]+$')\u001b[0m\n\u001b[0m    ^\u001b[0m\n\u001b[0;31mIndentationError\u001b[0m\u001b[0;31m:\u001b[0m unexpected indent\n"
          ]
        }
      ]
    }
  ]
}